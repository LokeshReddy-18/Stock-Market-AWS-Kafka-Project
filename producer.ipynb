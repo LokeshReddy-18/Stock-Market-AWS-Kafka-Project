{
 "cells": [
  {
   "cell_type": "code",
   "execution_count": null,
   "id": "e9258149-43a1-431a-9937-fccb239a13bd",
   "metadata": {},
   "outputs": [],
   "source": [
    "import pandas as pd\n",
    "from kafka import KafkaProducer\n",
    "import time\n",
    "from time import sleep\n",
    "from json import dumps\n",
    "import json\n",
    "import yfinance as yf"
   ]
  },
  {
   "cell_type": "code",
   "execution_count": null,
   "id": "fe360001-b4a1-4941-b88c-dd725d4d81ba",
   "metadata": {},
   "outputs": [],
   "source": [
    "producer = KafkaProducer(bootstrap_servers=['ec2_ip:9092'], #\n",
    "                         value_serializer=lambda x: \n",
    "                         dumps(x).encode('utf-8'))"
   ]
  },
  {
   "cell_type": "code",
   "execution_count": null,
   "metadata": {},
   "outputs": [],
   "source": [
    "ticker_symbols = ['AAPL', 'GOOGL', 'MSFT']\n",
    "\n",
    "while True:\n",
    "    for ticker_symbol in ticker_symbols:\n",
    "        # Get the stock data\n",
    "        stock = yf.Ticker(ticker_symbol)\n",
    "        \n",
    "        # Get current information\n",
    "        current_info = stock.info\n",
    "        \n",
    "        data = {\n",
    "                'symbol': ticker_symbol,\n",
    "                'price': current_info.get('currentPrice', None),\n",
    "                'ask': current_info.get('ask', None),\n",
    "                'bid': current_info.get('bid', None),\n",
    "                'volume': current_info.get('volume', None),\n",
    "                'marketCap': current_info.get('marketCap', None),\n",
    "                'timestamp': time.time()\n",
    "            }\n",
    "\n",
    "        \n",
    "        # Sending data to Kafka\n",
    "        producer.send('data', value=data)\n",
    "        \n",
    "    time.sleep(30)"
   ]
  }
 ],
 "metadata": {
  "kernelspec": {
   "display_name": "Python 3 (ipykernel)",
   "language": "python",
   "name": "python3"
  },
  "language_info": {
   "codemirror_mode": {
    "name": "ipython",
    "version": 3
   },
   "file_extension": ".py",
   "mimetype": "text/x-python",
   "name": "python",
   "nbconvert_exporter": "python",
   "pygments_lexer": "ipython3",
   "version": "3.11.5"
  }
 },
 "nbformat": 4,
 "nbformat_minor": 5
}
